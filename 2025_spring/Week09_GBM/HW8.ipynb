{
  "cells": [
    {
      "cell_type": "code",
      "execution_count": 1,
      "metadata": {
        "id": "InITFBGfl3DV"
      },
      "outputs": [],
      "source": [
        "#from google.colab import drive\n",
        "#drive.mount(\"/content/gdrive\")\n",
        "import numpy as np\n",
        "import pandas as pd\n",
        "import random\n",
        "from sklearn.tree import DecisionTreeRegressor\n",
        "from sklearn.model_selection import train_test_split\n",
        "from sklearn.preprocessing import OneHotEncoder\n",
        "from sklearn.compose import ColumnTransformer\n",
        "import matplotlib.pyplot as plt"
      ]
    },
    {
      "cell_type": "markdown",
      "metadata": {
        "id": "rTEcsjs_1e4P"
      },
      "source": [
        "aaa#Homework 8\n",
        "In this homework, we will write Gradient Boosting class and apply it to the date from the insuarance company about hospitalization chance. After transformation, data are numpy arrays, not dataframes."
      ]
    },
    {
      "cell_type": "code",
      "execution_count": 2,
      "metadata": {
        "id": "1O3g4yh6yIXH",
        "colab": {
          "base_uri": "https://localhost:8080/",
          "height": 206
        },
        "outputId": "0affd1dd-5d24-44ba-a954-ceb6b0a7f03b"
      },
      "outputs": [
        {
          "output_type": "execute_result",
          "data": {
            "text/plain": [
              "   ClaimsTruncated  CharlsonIndex  LengthOfStay  AgeAtFirstClaim Sex  \\\n",
              "0                0              3             0               30   M   \n",
              "1                0              0             0               30   M   \n",
              "2                1              0             0               80   F   \n",
              "3                0              0             1               20   F   \n",
              "4                0              1             0               60   F   \n",
              "\n",
              "   DaysInHospital  \n",
              "0              -1  \n",
              "1              -1  \n",
              "2               1  \n",
              "3               1  \n",
              "4              -1  "
            ],
            "text/html": [
              "\n",
              "  <div id=\"df-4477e7ab-8258-49ee-aca8-6eeff4586baa\" class=\"colab-df-container\">\n",
              "    <div>\n",
              "<style scoped>\n",
              "    .dataframe tbody tr th:only-of-type {\n",
              "        vertical-align: middle;\n",
              "    }\n",
              "\n",
              "    .dataframe tbody tr th {\n",
              "        vertical-align: top;\n",
              "    }\n",
              "\n",
              "    .dataframe thead th {\n",
              "        text-align: right;\n",
              "    }\n",
              "</style>\n",
              "<table border=\"1\" class=\"dataframe\">\n",
              "  <thead>\n",
              "    <tr style=\"text-align: right;\">\n",
              "      <th></th>\n",
              "      <th>ClaimsTruncated</th>\n",
              "      <th>CharlsonIndex</th>\n",
              "      <th>LengthOfStay</th>\n",
              "      <th>AgeAtFirstClaim</th>\n",
              "      <th>Sex</th>\n",
              "      <th>DaysInHospital</th>\n",
              "    </tr>\n",
              "  </thead>\n",
              "  <tbody>\n",
              "    <tr>\n",
              "      <th>0</th>\n",
              "      <td>0</td>\n",
              "      <td>3</td>\n",
              "      <td>0</td>\n",
              "      <td>30</td>\n",
              "      <td>M</td>\n",
              "      <td>-1</td>\n",
              "    </tr>\n",
              "    <tr>\n",
              "      <th>1</th>\n",
              "      <td>0</td>\n",
              "      <td>0</td>\n",
              "      <td>0</td>\n",
              "      <td>30</td>\n",
              "      <td>M</td>\n",
              "      <td>-1</td>\n",
              "    </tr>\n",
              "    <tr>\n",
              "      <th>2</th>\n",
              "      <td>1</td>\n",
              "      <td>0</td>\n",
              "      <td>0</td>\n",
              "      <td>80</td>\n",
              "      <td>F</td>\n",
              "      <td>1</td>\n",
              "    </tr>\n",
              "    <tr>\n",
              "      <th>3</th>\n",
              "      <td>0</td>\n",
              "      <td>0</td>\n",
              "      <td>1</td>\n",
              "      <td>20</td>\n",
              "      <td>F</td>\n",
              "      <td>1</td>\n",
              "    </tr>\n",
              "    <tr>\n",
              "      <th>4</th>\n",
              "      <td>0</td>\n",
              "      <td>1</td>\n",
              "      <td>0</td>\n",
              "      <td>60</td>\n",
              "      <td>F</td>\n",
              "      <td>-1</td>\n",
              "    </tr>\n",
              "  </tbody>\n",
              "</table>\n",
              "</div>\n",
              "    <div class=\"colab-df-buttons\">\n",
              "\n",
              "  <div class=\"colab-df-container\">\n",
              "    <button class=\"colab-df-convert\" onclick=\"convertToInteractive('df-4477e7ab-8258-49ee-aca8-6eeff4586baa')\"\n",
              "            title=\"Convert this dataframe to an interactive table.\"\n",
              "            style=\"display:none;\">\n",
              "\n",
              "  <svg xmlns=\"http://www.w3.org/2000/svg\" height=\"24px\" viewBox=\"0 -960 960 960\">\n",
              "    <path d=\"M120-120v-720h720v720H120Zm60-500h600v-160H180v160Zm220 220h160v-160H400v160Zm0 220h160v-160H400v160ZM180-400h160v-160H180v160Zm440 0h160v-160H620v160ZM180-180h160v-160H180v160Zm440 0h160v-160H620v160Z\"/>\n",
              "  </svg>\n",
              "    </button>\n",
              "\n",
              "  <style>\n",
              "    .colab-df-container {\n",
              "      display:flex;\n",
              "      gap: 12px;\n",
              "    }\n",
              "\n",
              "    .colab-df-convert {\n",
              "      background-color: #E8F0FE;\n",
              "      border: none;\n",
              "      border-radius: 50%;\n",
              "      cursor: pointer;\n",
              "      display: none;\n",
              "      fill: #1967D2;\n",
              "      height: 32px;\n",
              "      padding: 0 0 0 0;\n",
              "      width: 32px;\n",
              "    }\n",
              "\n",
              "    .colab-df-convert:hover {\n",
              "      background-color: #E2EBFA;\n",
              "      box-shadow: 0px 1px 2px rgba(60, 64, 67, 0.3), 0px 1px 3px 1px rgba(60, 64, 67, 0.15);\n",
              "      fill: #174EA6;\n",
              "    }\n",
              "\n",
              "    .colab-df-buttons div {\n",
              "      margin-bottom: 4px;\n",
              "    }\n",
              "\n",
              "    [theme=dark] .colab-df-convert {\n",
              "      background-color: #3B4455;\n",
              "      fill: #D2E3FC;\n",
              "    }\n",
              "\n",
              "    [theme=dark] .colab-df-convert:hover {\n",
              "      background-color: #434B5C;\n",
              "      box-shadow: 0px 1px 3px 1px rgba(0, 0, 0, 0.15);\n",
              "      filter: drop-shadow(0px 1px 2px rgba(0, 0, 0, 0.3));\n",
              "      fill: #FFFFFF;\n",
              "    }\n",
              "  </style>\n",
              "\n",
              "    <script>\n",
              "      const buttonEl =\n",
              "        document.querySelector('#df-4477e7ab-8258-49ee-aca8-6eeff4586baa button.colab-df-convert');\n",
              "      buttonEl.style.display =\n",
              "        google.colab.kernel.accessAllowed ? 'block' : 'none';\n",
              "\n",
              "      async function convertToInteractive(key) {\n",
              "        const element = document.querySelector('#df-4477e7ab-8258-49ee-aca8-6eeff4586baa');\n",
              "        const dataTable =\n",
              "          await google.colab.kernel.invokeFunction('convertToInteractive',\n",
              "                                                    [key], {});\n",
              "        if (!dataTable) return;\n",
              "\n",
              "        const docLinkHtml = 'Like what you see? Visit the ' +\n",
              "          '<a target=\"_blank\" href=https://colab.research.google.com/notebooks/data_table.ipynb>data table notebook</a>'\n",
              "          + ' to learn more about interactive tables.';\n",
              "        element.innerHTML = '';\n",
              "        dataTable['output_type'] = 'display_data';\n",
              "        await google.colab.output.renderOutput(dataTable, element);\n",
              "        const docLink = document.createElement('div');\n",
              "        docLink.innerHTML = docLinkHtml;\n",
              "        element.appendChild(docLink);\n",
              "      }\n",
              "    </script>\n",
              "  </div>\n",
              "\n",
              "\n",
              "<div id=\"df-f28993e2-2fb2-4460-8537-d2a6809ae634\">\n",
              "  <button class=\"colab-df-quickchart\" onclick=\"quickchart('df-f28993e2-2fb2-4460-8537-d2a6809ae634')\"\n",
              "            title=\"Suggest charts\"\n",
              "            style=\"display:none;\">\n",
              "\n",
              "<svg xmlns=\"http://www.w3.org/2000/svg\" height=\"24px\"viewBox=\"0 0 24 24\"\n",
              "     width=\"24px\">\n",
              "    <g>\n",
              "        <path d=\"M19 3H5c-1.1 0-2 .9-2 2v14c0 1.1.9 2 2 2h14c1.1 0 2-.9 2-2V5c0-1.1-.9-2-2-2zM9 17H7v-7h2v7zm4 0h-2V7h2v10zm4 0h-2v-4h2v4z\"/>\n",
              "    </g>\n",
              "</svg>\n",
              "  </button>\n",
              "\n",
              "<style>\n",
              "  .colab-df-quickchart {\n",
              "      --bg-color: #E8F0FE;\n",
              "      --fill-color: #1967D2;\n",
              "      --hover-bg-color: #E2EBFA;\n",
              "      --hover-fill-color: #174EA6;\n",
              "      --disabled-fill-color: #AAA;\n",
              "      --disabled-bg-color: #DDD;\n",
              "  }\n",
              "\n",
              "  [theme=dark] .colab-df-quickchart {\n",
              "      --bg-color: #3B4455;\n",
              "      --fill-color: #D2E3FC;\n",
              "      --hover-bg-color: #434B5C;\n",
              "      --hover-fill-color: #FFFFFF;\n",
              "      --disabled-bg-color: #3B4455;\n",
              "      --disabled-fill-color: #666;\n",
              "  }\n",
              "\n",
              "  .colab-df-quickchart {\n",
              "    background-color: var(--bg-color);\n",
              "    border: none;\n",
              "    border-radius: 50%;\n",
              "    cursor: pointer;\n",
              "    display: none;\n",
              "    fill: var(--fill-color);\n",
              "    height: 32px;\n",
              "    padding: 0;\n",
              "    width: 32px;\n",
              "  }\n",
              "\n",
              "  .colab-df-quickchart:hover {\n",
              "    background-color: var(--hover-bg-color);\n",
              "    box-shadow: 0 1px 2px rgba(60, 64, 67, 0.3), 0 1px 3px 1px rgba(60, 64, 67, 0.15);\n",
              "    fill: var(--button-hover-fill-color);\n",
              "  }\n",
              "\n",
              "  .colab-df-quickchart-complete:disabled,\n",
              "  .colab-df-quickchart-complete:disabled:hover {\n",
              "    background-color: var(--disabled-bg-color);\n",
              "    fill: var(--disabled-fill-color);\n",
              "    box-shadow: none;\n",
              "  }\n",
              "\n",
              "  .colab-df-spinner {\n",
              "    border: 2px solid var(--fill-color);\n",
              "    border-color: transparent;\n",
              "    border-bottom-color: var(--fill-color);\n",
              "    animation:\n",
              "      spin 1s steps(1) infinite;\n",
              "  }\n",
              "\n",
              "  @keyframes spin {\n",
              "    0% {\n",
              "      border-color: transparent;\n",
              "      border-bottom-color: var(--fill-color);\n",
              "      border-left-color: var(--fill-color);\n",
              "    }\n",
              "    20% {\n",
              "      border-color: transparent;\n",
              "      border-left-color: var(--fill-color);\n",
              "      border-top-color: var(--fill-color);\n",
              "    }\n",
              "    30% {\n",
              "      border-color: transparent;\n",
              "      border-left-color: var(--fill-color);\n",
              "      border-top-color: var(--fill-color);\n",
              "      border-right-color: var(--fill-color);\n",
              "    }\n",
              "    40% {\n",
              "      border-color: transparent;\n",
              "      border-right-color: var(--fill-color);\n",
              "      border-top-color: var(--fill-color);\n",
              "    }\n",
              "    60% {\n",
              "      border-color: transparent;\n",
              "      border-right-color: var(--fill-color);\n",
              "    }\n",
              "    80% {\n",
              "      border-color: transparent;\n",
              "      border-right-color: var(--fill-color);\n",
              "      border-bottom-color: var(--fill-color);\n",
              "    }\n",
              "    90% {\n",
              "      border-color: transparent;\n",
              "      border-bottom-color: var(--fill-color);\n",
              "    }\n",
              "  }\n",
              "</style>\n",
              "\n",
              "  <script>\n",
              "    async function quickchart(key) {\n",
              "      const quickchartButtonEl =\n",
              "        document.querySelector('#' + key + ' button');\n",
              "      quickchartButtonEl.disabled = true;  // To prevent multiple clicks.\n",
              "      quickchartButtonEl.classList.add('colab-df-spinner');\n",
              "      try {\n",
              "        const charts = await google.colab.kernel.invokeFunction(\n",
              "            'suggestCharts', [key], {});\n",
              "      } catch (error) {\n",
              "        console.error('Error during call to suggestCharts:', error);\n",
              "      }\n",
              "      quickchartButtonEl.classList.remove('colab-df-spinner');\n",
              "      quickchartButtonEl.classList.add('colab-df-quickchart-complete');\n",
              "    }\n",
              "    (() => {\n",
              "      let quickchartButtonEl =\n",
              "        document.querySelector('#df-f28993e2-2fb2-4460-8537-d2a6809ae634 button');\n",
              "      quickchartButtonEl.style.display =\n",
              "        google.colab.kernel.accessAllowed ? 'block' : 'none';\n",
              "    })();\n",
              "  </script>\n",
              "</div>\n",
              "\n",
              "    </div>\n",
              "  </div>\n"
            ],
            "application/vnd.google.colaboratory.intrinsic+json": {
              "type": "dataframe",
              "variable_name": "data",
              "summary": "{\n  \"name\": \"data\",\n  \"rows\": 76038,\n  \"fields\": [\n    {\n      \"column\": \"ClaimsTruncated\",\n      \"properties\": {\n        \"dtype\": \"number\",\n        \"std\": 0,\n        \"min\": 0,\n        \"max\": 1,\n        \"num_unique_values\": 2,\n        \"samples\": [\n          1,\n          0\n        ],\n        \"semantic_type\": \"\",\n        \"description\": \"\"\n      }\n    },\n    {\n      \"column\": \"CharlsonIndex\",\n      \"properties\": {\n        \"dtype\": \"number\",\n        \"std\": 0,\n        \"min\": 0,\n        \"max\": 5,\n        \"num_unique_values\": 4,\n        \"samples\": [\n          0,\n          5\n        ],\n        \"semantic_type\": \"\",\n        \"description\": \"\"\n      }\n    },\n    {\n      \"column\": \"LengthOfStay\",\n      \"properties\": {\n        \"dtype\": \"number\",\n        \"std\": 17,\n        \"min\": 0,\n        \"max\": 1744,\n        \"num_unique_values\": 187,\n        \"samples\": [\n          379,\n          254\n        ],\n        \"semantic_type\": \"\",\n        \"description\": \"\"\n      }\n    },\n    {\n      \"column\": \"AgeAtFirstClaim\",\n      \"properties\": {\n        \"dtype\": \"number\",\n        \"std\": 26,\n        \"min\": -1,\n        \"max\": 80,\n        \"num_unique_values\": 10,\n        \"samples\": [\n          10,\n          80\n        ],\n        \"semantic_type\": \"\",\n        \"description\": \"\"\n      }\n    },\n    {\n      \"column\": \"Sex\",\n      \"properties\": {\n        \"dtype\": \"category\",\n        \"num_unique_values\": 2,\n        \"samples\": [\n          \"F\",\n          \"M\"\n        ],\n        \"semantic_type\": \"\",\n        \"description\": \"\"\n      }\n    },\n    {\n      \"column\": \"DaysInHospital\",\n      \"properties\": {\n        \"dtype\": \"number\",\n        \"std\": 0,\n        \"min\": -1,\n        \"max\": 1,\n        \"num_unique_values\": 2,\n        \"samples\": [\n          1,\n          -1\n        ],\n        \"semantic_type\": \"\",\n        \"description\": \"\"\n      }\n    }\n  ]\n}"
            }
          },
          "metadata": {},
          "execution_count": 2
        }
      ],
      "source": [
        "\n",
        "data = pd.read_csv('https://raw.githubusercontent.com/anton-selitskiy/RIT_ML/refs/heads/main/2023_fall/Hospital.csv')\n",
        "data.head()"
      ]
    },
    {
      "cell_type": "code",
      "execution_count": 3,
      "metadata": {
        "id": "J3IVlpskyafP"
      },
      "outputs": [],
      "source": [
        "X = data.iloc[:,:-1]\n",
        "y = data.iloc[:,-1].values"
      ]
    },
    {
      "cell_type": "code",
      "execution_count": 4,
      "metadata": {
        "id": "GfPXBN47NAJs"
      },
      "outputs": [],
      "source": [
        "X_train, X_test, y_train, y_test = train_test_split(X, y, test_size=0.4, random_state=42)\n",
        "X_val, X_test, y_val, y_test = train_test_split(X_test, y_test, test_size=0.5, random_state=42)"
      ]
    },
    {
      "cell_type": "code",
      "execution_count": 5,
      "metadata": {
        "id": "ySV7wLciNAGN"
      },
      "outputs": [],
      "source": [
        "transform = ColumnTransformer([('OneHot', OneHotEncoder(drop='first', handle_unknown='infrequent_if_exist'), ['Sex'])], remainder='passthrough')"
      ]
    },
    {
      "cell_type": "code",
      "execution_count": 6,
      "metadata": {
        "id": "f-GYgbYgQx1a"
      },
      "outputs": [],
      "source": [
        "\n",
        "X_train_transformed = transform.fit_transform(X_train)\n",
        "X_val_transformed = transform.transform(X_val)\n",
        "X_test_transformed = transform.transform(X_test)"
      ]
    },
    {
      "cell_type": "markdown",
      "metadata": {
        "id": "hOU7RIFFLYAs"
      },
      "source": [
        "#Gradient Boosting\n",
        "\n",
        "$$\n",
        "a_N(x) = b_0(x)+\\sum_{n=1}^N \\gamma_n b_n(x) = b_0(x) + \\gamma_1 b_1(x) +\\ldots + \\gamma_N b_N(x)\n",
        "$$\n",
        "Prediction is\n",
        "$$\n",
        "\\hat{y}=\\operatorname{sign} a_N(x).\n",
        "$$\n",
        "\n",
        "After you built this sum, next model $b_{N+1}(x)$ is trained on\n",
        "$$\n",
        "s^{(i)} = -\\eta\\left.\\frac{\\partial L(y, z)}{\\partial z}\\right|_{z=a_N(x^{(i)})}.\n",
        "$$\n",
        "\n",
        "After that, $\\gamma_{N+1}$ is chosen from the following condition:\n",
        "$$\n",
        "L(y, a_N(x)+\\gamma_{N+1}b_{N+1}(x)) \\to \\underset{\\gamma_{N+1}}{\\min}.\n",
        "$$"
      ]
    },
    {
      "cell_type": "markdown",
      "metadata": {
        "id": "KIpdgoJhoPAo"
      },
      "source": [
        "##Q1 (12 pt). Implement boosting for binary classification.\n",
        "\n",
        "Since gradient boosting is trained by sequentially creating models, it may happen that the model that is optimal in terms of generalization is obtained at an intermediate iteration. Usually, to control this behavior, a validation dataset is also passed to the `fit` method, which allows you to assess the overall model quality during training. In addition, it's not usefull to train a really deep model with 1000 or more trees if the optimal ensemble was achieved, for example, at the 70th iteration and did not improve for some number of iterations. Therefore, we will also use early stopping if there are no improvements over a certain number of iterations.\n",
        "\n",
        "You will fill-in three things:\n",
        "\n",
        "1 (4 pt). Function `_fit_new_model`\n",
        "\n",
        "2 (4 pt). Early stopping in `fit`\n",
        "\n",
        "3 (4 pt). Function `predict_proba` (Convert $a(x)$ into probability as in logistic regression)."
      ]
    },
    {
      "cell_type": "code",
      "execution_count": 7,
      "metadata": {
        "id": "0LfhmdJLnZAT"
      },
      "outputs": [],
      "source": [
        "class Boosting:\n",
        "\n",
        "    def __init__(\n",
        "        self,\n",
        "        base_model_class=DecisionTreeRegressor,\n",
        "        base_model_params: dict={'max_features': 0.1},\n",
        "        n_estimators: int=10,\n",
        "        learning_rate: float=0.1,\n",
        "        subsample: float=0.3,\n",
        "        random_seed: int=228,\n",
        "        custom_loss: list or tuple=None,\n",
        "        use_best_model: bool=False,\n",
        "        n_iter_early_stopping: int=None\n",
        "    ):\n",
        "\n",
        "        # Base model class\n",
        "        self.base_model_class = base_model_class\n",
        "        # Parameters for the base model\n",
        "        self.base_model_params = base_model_params\n",
        "        # Number of the base models\n",
        "        self.n_estimators = n_estimators\n",
        "        # Learnin rate (eta)\n",
        "        self.learning_rate = learning_rate\n",
        "        # Fraction of the training data for training of the individual model\n",
        "        self.subsample = subsample\n",
        "        # seed for bootstrap (if we want to reproduse the model, we could use it in base_model parameters)\n",
        "        self.random_seed = random_seed\n",
        "        # Use the number of models with the lowest validation loss\n",
        "        self.use_best_model = use_best_model\n",
        "        # The number of iterations without decreasing of the validation loss\n",
        "        self.n_iter_early_stopping = n_iter_early_stopping\n",
        "\n",
        "        # Placeholder for the first model prediction (a_0)\n",
        "        self.initial_model_pred = None\n",
        "\n",
        "        # Lis of the weights\n",
        "        self.gammas = []\n",
        "\n",
        "        # List of the base models\n",
        "        self.models = [self.base_model_class(**self.base_model_params) for _ in range(self.n_estimators)]\n",
        "\n",
        "        # Log-loss, if user's loss, then pass list: custom_loss = [loss, derivative]\n",
        "        if custom_loss is not None:\n",
        "            self.loss_fn, self.loss_derivative = custom_loss\n",
        "        else:\n",
        "            self.sigmoid = lambda z: 1 / (1 + np.exp(-z))\n",
        "            self.loss_fn = lambda y, z: -np.log(self.sigmoid(y * z)).mean()  #for two arrays returns a number\n",
        "            self.loss_derivative = lambda y, z: (-y * self.sigmoid(-y * z)) #for two arrays returns an array\n",
        "\n",
        "    def _fit_initial_model(self, X, y):\n",
        "        \"\"\"\n",
        "        Function for the first model. It can be a constant, corresponding to the most popular class\n",
        "        or any other model. We will use a constant.\n",
        "        \"\"\"\n",
        "\n",
        "        idx = random.sample(range(X.shape[0]), int(self.subsample*X.shape[0]))\n",
        "        X_s = X[idx,:]\n",
        "        y_s = y[idx]\n",
        "\n",
        "        c, c_counts = np.unique(y_s, return_counts=True)\n",
        "\n",
        "        self.initial_model_pred = c[np.argmax(c_counts)]\n",
        "\n",
        "\n",
        "    def _fit_new_model(self, X: np.ndarray, y: np.ndarray or list, old_predictions: np.ndarray, n_model: int):\n",
        "        \"\"\"\n",
        "        Function for an individual model of the boosting\n",
        "        :param X: features\n",
        "        :param y: target\n",
        "        :param n_model: number of the current model\n",
        "        \"\"\"\n",
        "\n",
        "        # Your code is here ╰( ͡° ͜ʖ ͡° )つ──☆*:\n",
        "\n",
        "        # Take the fraction self.subsample of the data (X, y, old_predictions):\n",
        "        n_samples = int(self.subsample * X.shape[0])\n",
        "        idx = random.sample(range(X.shape[0]), n_samples)\n",
        "        X_subset = X[idx]\n",
        "        y_subset = y[idx]\n",
        "\n",
        "        # Compiute pseudo-residuals s using negative self.loss_derivative of y and old_predictions:\n",
        "        residuals_full = - self.learning_rate * self.loss_derivative(y, old_predictions)\n",
        "        s = residuals_full[idx]\n",
        "\n",
        "        # Fit n-th base model self.models[n_model].fit on (X_subset, s):\n",
        "        self.models[n_model].fit(X_subset, s)\n",
        "\n",
        "\n",
        "\n",
        "    def _find_optimal_gamma(self, y: np.ndarray or list, old_predictions: np.ndarray,\n",
        "                            new_predictions: np.ndarray, boundaries: tuple or list=(0.01, 1)):\n",
        "        \"\"\"\n",
        "        Function determines the best  gamma (the coeffitient for the new model).\n",
        "        :param y: target\n",
        "        :param old_predictions: prediction from the sum of previous models\n",
        "        :param new_predictions: prediction of the new model\n",
        "        :param boudnaries: array-like object with left and right boundaries for gamma\n",
        "        \"\"\"\n",
        "        # Define initial loss and gamma\n",
        "        loss, optimal_gamma = self.loss_fn(y, old_predictions), 0\n",
        "        # Gridsearch for gamma\n",
        "        gammas = np.linspace(*boundaries, 100)\n",
        "        for gamma in gammas:\n",
        "            predictions = old_predictions + gamma * new_predictions\n",
        "            gamma_loss = self.loss_fn(y, predictions)\n",
        "            if gamma_loss < loss:\n",
        "                optimal_gamma = gamma\n",
        "                loss = gamma_loss\n",
        "\n",
        "        return optimal_gamma\n",
        "\n",
        "\n",
        "    def fit(self, X, y, eval_set=None):\n",
        "        \"\"\"\n",
        "        Function of the training the boosting model\n",
        "        :param X: features (n_elments, n_features)\n",
        "        :param y: target (n_elements, )\n",
        "        :eval_set: tuple (X_val, y_val) or None\n",
        "        \"\"\"\n",
        "\n",
        "        early_stop = np.zeros(self.n_iter_early_stopping)\n",
        "        self._fit_initial_model(X,y)\n",
        "        old_predictions = self.initial_model_pred*np.ones(len(y)) #.predict(X)\n",
        "        self.loss = []\n",
        "        self.loss_eval = []\n",
        "        if eval_set != None:\n",
        "            predictions_eval = self.initial_model_pred*np.ones(len(eval_set[1])) #.predict(eval_set[0])\n",
        "        for i in range(self.n_estimators):\n",
        "            # fit new model\n",
        "            self._fit_new_model(X,y,old_predictions,i)\n",
        "            # prediction of the i-th model\n",
        "            new_predictions = self.models[i].predict(X)\n",
        "            # calculate new gamma\n",
        "            opt_gamma = self._find_optimal_gamma(y,old_predictions,new_predictions)\n",
        "            self.gammas.append(opt_gamma)\n",
        "            # update a(x)\n",
        "            old_predictions = old_predictions + opt_gamma*new_predictions\n",
        "            # calculate loss\n",
        "            self.loss.append(self.loss_fn(y, old_predictions))\n",
        "            # in case of evaluation set\n",
        "            if eval_set != None:\n",
        "                predictions_eval = predictions_eval + self.gammas[i]*self.models[i].predict(eval_set[0])\n",
        "                self.loss_eval.append(self.loss_fn(eval_set[1], predictions_eval))\n",
        "                print('test_loss:', self.loss_eval[i], '  train_loss:', self.loss[i])\n",
        "\n",
        "                # Your code here ╰( ͡° ͜ʖ ͡° )つ──☆*:\n",
        "\n",
        "                # Update array early_stop with new validation loss value from the right\n",
        "                # and check if all the values are close to the current self.loss_eval[i]\n",
        "                # e.g., if np.linalg.norm(early_stop - self.loss_eval[i]) < 0.001: break\n",
        "\n",
        "                if self.n_iter_early_stopping is not None:\n",
        "                    # Shift left, add new validation loss at the end\n",
        "                    early_stop = np.roll(early_stop, -1)\n",
        "                    early_stop[-1] = val_loss\n",
        "\n",
        "                    # Check if all are close to the newest value\n",
        "                    # e.g., if the norm is small, we have basically no improvement\n",
        "                    if np.linalg.norm(early_stop - val_loss) < 1e-3 and i >= self.n_iter_early_stopping:\n",
        "                        print(f\"Early stopping at iteration {i}\")\n",
        "                        break\n",
        "\n",
        "            else:\n",
        "                print('train_loss:', self.loss[i])\n",
        "        if (eval_set != None) and self.use_best_model:\n",
        "             self.gammas = self.gammas[:np.argmin(self.loss_eval)+1]\n",
        "\n",
        "\n",
        "\n",
        "\n",
        "    def predict(self, X: np.ndarray):\n",
        "        \"\"\"\n",
        "        Function that predicts the classes\n",
        "        :param X: feature matrix\n",
        "        \"\"\"\n",
        "\n",
        "        pred = self.initial_model_pred*np.ones(len(X)) #.predict(X)\n",
        "        for i in range(len(self.gammas)):\n",
        "          pred = pred+self.gammas[i]*self.models[i].predict(X)\n",
        "        return np.sign(pred)\n",
        "\n",
        "    def predict_proba(self, X: np.ndarray):\n",
        "        \"\"\"\n",
        "        Function predicts probabilities of class +1\n",
        "        :param X: feature matrix\n",
        "        \"\"\"\n",
        "\n",
        "        # Your code here ╰( ͡° ͜ʖ ͡° )つ──☆*:\n",
        "        pred = self.initial_model_pred*np.ones(len(X), dtype=float)\n",
        "        for i in range(len(self.gammas)):\n",
        "            pred += self.gammas[i]*self.models[i].predict(X)\n",
        "        # Probability of class +1\n",
        "        proba_pos = 1 / (1 + np.exp(-pred))\n",
        "        return proba_pos\n",
        "\n",
        "\n",
        "    @property\n",
        "    def feature_importances_(self):\n",
        "        \"\"\"\n",
        "        Extra credits (+3 pt)\n",
        "        Function calculates feature importance.\n",
        "        And it should be an attribute of the class\n",
        "        \"\"\"\n",
        "        # Your code here ╰( ͡° ͜ʖ ͡° )つ──☆*:\n",
        "        #if no models have been fit, return an empty array\n",
        "        if not self.models:\n",
        "            return np.array([])\n",
        "\n",
        "        #we assume all models have the same number of features.\n",
        "        n_features = getattr(self.models[0], 'n_features_in_', None)\n",
        "        if n_features is None:\n",
        "            #fallback\n",
        "            return np.array([])\n",
        "\n",
        "        importances = np.zeros(n_features, dtype=np.float64)\n",
        "\n",
        "        for model, gamma in zip(self.models, self.gammas):\n",
        "            if hasattr(model, 'feature_importances_'):\n",
        "                #weighted sum of feature importances\n",
        "                importances += gamma * model.feature_importances_\n",
        "\n",
        "        #normalize so that importances sum up to 1\n",
        "        total = importances.sum()\n",
        "        if total > 0:\n",
        "            importances /= total\n",
        "\n",
        "        return importances"
      ]
    },
    {
      "cell_type": "markdown",
      "metadata": {
        "id": "lSrWqtPHoGAx"
      },
      "source": [
        "The following cell will run your class. It should take about 10 seconds"
      ]
    },
    {
      "cell_type": "code",
      "execution_count": 8,
      "metadata": {
        "id": "083XGF8C_JMK",
        "colab": {
          "base_uri": "https://localhost:8080/",
          "height": 263
        },
        "outputId": "e71d59ea-2b1f-4dbf-b66f-baf657513ebd"
      },
      "outputs": [
        {
          "output_type": "stream",
          "name": "stdout",
          "text": [
            "test_loss: 0.4698080937395418   train_loss: 0.46093744533535796\n"
          ]
        },
        {
          "output_type": "error",
          "ename": "NameError",
          "evalue": "name 'val_loss' is not defined",
          "traceback": [
            "\u001b[0;31m---------------------------------------------------------------------------\u001b[0m",
            "\u001b[0;31mNameError\u001b[0m                                 Traceback (most recent call last)",
            "\u001b[0;32m<timed exec>\u001b[0m in \u001b[0;36m<module>\u001b[0;34m\u001b[0m\n",
            "\u001b[0;32m<ipython-input-7-35cae9a9de89>\u001b[0m in \u001b[0;36mfit\u001b[0;34m(self, X, y, eval_set)\u001b[0m\n\u001b[1;32m    153\u001b[0m                     \u001b[0;31m# Shift left, add new validation loss at the end\u001b[0m\u001b[0;34m\u001b[0m\u001b[0;34m\u001b[0m\u001b[0m\n\u001b[1;32m    154\u001b[0m                     \u001b[0mearly_stop\u001b[0m \u001b[0;34m=\u001b[0m \u001b[0mnp\u001b[0m\u001b[0;34m.\u001b[0m\u001b[0mroll\u001b[0m\u001b[0;34m(\u001b[0m\u001b[0mearly_stop\u001b[0m\u001b[0;34m,\u001b[0m \u001b[0;34m-\u001b[0m\u001b[0;36m1\u001b[0m\u001b[0;34m)\u001b[0m\u001b[0;34m\u001b[0m\u001b[0;34m\u001b[0m\u001b[0m\n\u001b[0;32m--> 155\u001b[0;31m                     \u001b[0mearly_stop\u001b[0m\u001b[0;34m[\u001b[0m\u001b[0;34m-\u001b[0m\u001b[0;36m1\u001b[0m\u001b[0;34m]\u001b[0m \u001b[0;34m=\u001b[0m \u001b[0mval_loss\u001b[0m\u001b[0;34m\u001b[0m\u001b[0;34m\u001b[0m\u001b[0m\n\u001b[0m\u001b[1;32m    156\u001b[0m \u001b[0;34m\u001b[0m\u001b[0m\n\u001b[1;32m    157\u001b[0m                     \u001b[0;31m# Check if all are close to the newest value\u001b[0m\u001b[0;34m\u001b[0m\u001b[0;34m\u001b[0m\u001b[0m\n",
            "\u001b[0;31mNameError\u001b[0m: name 'val_loss' is not defined"
          ]
        }
      ],
      "source": [
        "%%time\n",
        "\n",
        "boosting = Boosting(n_estimators = 1000, n_iter_early_stopping = 6, use_best_model=True)\n",
        "boosting.fit(X_train_transformed, y_train, [X_val_transformed, y_val])"
      ]
    },
    {
      "cell_type": "code",
      "execution_count": 9,
      "metadata": {
        "colab": {
          "base_uri": "https://localhost:8080/",
          "height": 447
        },
        "id": "1TeOTVvYr40O",
        "outputId": "0ac775ce-7450-4b58-d8c9-3634b1a07ea4"
      },
      "outputs": [
        {
          "output_type": "execute_result",
          "data": {
            "text/plain": [
              "[<matplotlib.lines.Line2D at 0x7e69fb1c1090>]"
            ]
          },
          "metadata": {},
          "execution_count": 9
        },
        {
          "output_type": "display_data",
          "data": {
            "text/plain": [
              "<Figure size 640x480 with 1 Axes>"
            ],
            "image/png": "[encoded data removed]"
          },
          "metadata": {}
        }
      ],
      "source": [
        "plt.plot(boosting.loss)\n",
        "plt.plot(boosting.loss_eval)"
      ]
    },
    {
      "cell_type": "code",
      "execution_count": 9,
      "metadata": {
        "id": "7LfaWiibGO_w"
      },
      "outputs": [],
      "source": []
    },
    {
      "cell_type": "markdown",
      "metadata": {
        "id": "vm6y2wOEGPYq"
      },
      "source": [
        "## Q2 (4 pt). Use your trained Boosting classifier.\n",
        "(a) Choose the threshold form (0, 1) to get recall $\\approx 0.5$ on the validation set.\n",
        "\n",
        "`recall_score((y_val+1)//2, boosting.predict_proba(X_val_transformed)>threshhold)`\n",
        "\n",
        "(b) Plot Confusion Matrix for the Test based on this threshhold and calculate recall on Test.\n",
        "\n",
        "(c) Plot ROC curve"
      ]
    },
    {
      "cell_type": "code",
      "execution_count": 10,
      "metadata": {
        "id": "2BVl892Q_brN"
      },
      "outputs": [],
      "source": [
        "from sklearn.metrics import ConfusionMatrixDisplay, recall_score, RocCurveDisplay"
      ]
    },
    {
      "cell_type": "code",
      "execution_count": 10,
      "metadata": {
        "id": "Bqovpzi0eFlJ"
      },
      "outputs": [],
      "source": []
    },
    {
      "cell_type": "code",
      "execution_count": 10,
      "metadata": {
        "id": "Y52DpSgpArOd"
      },
      "outputs": [],
      "source": []
    },
    {
      "cell_type": "code",
      "execution_count": 10,
      "metadata": {
        "id": "XZ4lZgNdABCf"
      },
      "outputs": [],
      "source": []
    },
    {
      "cell_type": "code",
      "execution_count": 10,
      "metadata": {
        "id": "54B23FD6_1Gu"
      },
      "outputs": [],
      "source": []
    },
    {
      "cell_type": "markdown",
      "metadata": {
        "id": "d1q9Ds-_BzQl"
      },
      "source": [
        "## Q3 (4 pt). Train LightGBM Classifier on your data.\n",
        "(a) Choose the threshold form (0, 1) to get recall $\\approx 0.5$ on the validation set.\n",
        "\n",
        "`recall_score((y_val+1)//2, gb.predict_proba(X_val_transformed)[:,1]>threshhold)`\n",
        "\n",
        "(b) Plot Confusion Matrix for the Test based on this threshhold and calculate recall on Test.\n",
        "\n",
        "(c) Plot ROC curve\n",
        "\n",
        "`RocCurveDisplay.from_predictions(y_test, gb.predict_proba(X_test_transformed)[:,1])`\n",
        "\n",
        "(d) Compare with the result of your model from Q2."
      ]
    },
    {
      "cell_type": "code",
      "execution_count": 11,
      "metadata": {
        "id": "al4SWHVVA0o2"
      },
      "outputs": [],
      "source": [
        "import lightgbm as lgb"
      ]
    },
    {
      "cell_type": "code",
      "execution_count": 12,
      "metadata": {
        "id": "y6ap7-0JXoiD"
      },
      "outputs": [],
      "source": [
        "gb = lgb.LGBMClassifier()"
      ]
    },
    {
      "cell_type": "code",
      "execution_count": 12,
      "metadata": {
        "id": "EXvoTwQ9Xwk3"
      },
      "outputs": [],
      "source": []
    },
    {
      "cell_type": "code",
      "execution_count": 12,
      "metadata": {
        "id": "zshgsEDBYXPW"
      },
      "outputs": [],
      "source": []
    },
    {
      "cell_type": "code",
      "execution_count": 12,
      "metadata": {
        "id": "wY0nBhnqX3eW"
      },
      "outputs": [],
      "source": []
    },
    {
      "cell_type": "code",
      "execution_count": 12,
      "metadata": {
        "id": "nUtFi3T2YDuy"
      },
      "outputs": [],
      "source": []
    },
    {
      "cell_type": "code",
      "execution_count": 12,
      "metadata": {
        "id": "_BJVLCjdE4Qa"
      },
      "outputs": [],
      "source": []
    },
    {
      "cell_type": "markdown",
      "metadata": {
        "id": "kA3XN_oQir3M"
      },
      "source": [
        "Are you satisfied with the result?"
      ]
    },
    {
      "cell_type": "code",
      "execution_count": 12,
      "metadata": {
        "id": "2xs9mFhJGgf7"
      },
      "outputs": [],
      "source": []
    }
  ],
  "metadata": {
    "colab": {
      "machine_shape": "hm",
      "provenance": []
    },
    "kernelspec": {
      "display_name": "Python 3",
      "name": "python3"
    },
    "language_info": {
      "codemirror_mode": {
        "name": "ipython",
        "version": 3
      },
      "file_extension": ".py",
      "mimetype": "text/x-python",
      "name": "python",
      "nbconvert_exporter": "python",
      "pygments_lexer": "ipython3",
      "version": "3.11.5"
    }
  },
  "nbformat": 4,
  "nbformat_minor": 0
}